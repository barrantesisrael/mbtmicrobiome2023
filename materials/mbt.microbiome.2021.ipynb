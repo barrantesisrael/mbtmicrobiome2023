import requests
from IPython.display import display, Markdown

# URL of the raw Markdown file
url = "https://raw.githubusercontent.com/barrantesisrael/mbt.microbiome.2021/main/README.md"

# Fetch content from the URL
response = requests.get(url)
markdown_content = response.text

# Display Markdown content
display(Markdown(markdown_content))
