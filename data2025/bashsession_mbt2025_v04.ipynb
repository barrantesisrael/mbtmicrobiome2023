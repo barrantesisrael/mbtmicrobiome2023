{
  "cells": [
    {
      "cell_type": "markdown",
      "metadata": {
        "id": "XUmYvAk6yri8"
      },
      "source": [
        "# UMR MBT Microbiome Praktikum Session 1\n",
        "\n",
        "\n",
        "---\n",
        "\n",
        "## 1.1 Setup and introduction to the command line for Bioinformatics\n",
        "\n",
        "To start the session, click _Connect_ in the upper right corner of this Google Colab notebook.\n",
        "\n",
        "First, let's run the following cell, to install the `conda` package manager (ca. 2 minutes)\n"
      ]
    },
    {
      "cell_type": "code",
      "source": [
        "!pip install -q condacolab\n",
        "import condacolab\n",
        "condacolab.install()"
      ],
      "metadata": {
        "id": "dsLpd2hSBFiu"
      },
      "execution_count": null,
      "outputs": []
    },
    {
      "cell_type": "markdown",
      "source": [
        "Checking that the install is correct:"
      ],
      "metadata": {
        "id": "WobmRegFdnQz"
      }
    },
    {
      "cell_type": "code",
      "source": [
        "import condacolab\n",
        "condacolab.check()"
      ],
      "metadata": {
        "id": "CGWzfISgdm1-"
      },
      "execution_count": null,
      "outputs": []
    },
    {
      "cell_type": "markdown",
      "metadata": {
        "id": "IA376ZS9LZuw"
      },
      "source": [
        "Afterwards we install all the programs we need today using `conda` (usually takes up to 5 minutes):"
      ]
    },
    {
      "cell_type": "code",
      "execution_count": null,
      "metadata": {
        "id": "1WxfEpTlLboZ"
      },
      "outputs": [],
      "source": [
        "! conda install -y -c bioconda fastqc pandaseq kraken2 kraken-biom >/dev/null 2>&1"
      ]
    },
    {
      "cell_type": "markdown",
      "source": [
        "Let's verify our installs by running **_one_** the following commands:"
      ],
      "metadata": {
        "id": "LfLQd1AASfte"
      }
    },
    {
      "cell_type": "code",
      "source": [
        "! fastqc -h"
      ],
      "metadata": {
        "id": "rvBgB4AeVUrv"
      },
      "execution_count": null,
      "outputs": []
    },
    {
      "cell_type": "code",
      "source": [
        "! pandaseq -h"
      ],
      "metadata": {
        "id": "FicfgnBgSlkc"
      },
      "execution_count": null,
      "outputs": []
    },
    {
      "cell_type": "code",
      "source": [
        "! kraken2"
      ],
      "metadata": {
        "id": "sXkcb86MSnWQ"
      },
      "execution_count": null,
      "outputs": []
    },
    {
      "cell_type": "markdown",
      "source": [
        "To conclude the setup, let's retrieve our course repository to a new folder called \"**course**\""
      ],
      "metadata": {
        "id": "qxKnRhUYUVQA"
      }
    },
    {
      "cell_type": "code",
      "execution_count": null,
      "metadata": {
        "id": "4uaEiRzaE4X9"
      },
      "outputs": [],
      "source": [
        "! git clone https://github.com/barrantesisrael/mbtmicrobiome2023 course"
      ]
    },
    {
      "cell_type": "markdown",
      "source": [
        "and retrieve the 16S Greengenes database by changing first to the materials folder, and running the `getgg.sh` script as following:"
      ],
      "metadata": {
        "id": "_eKswEpDhrNi"
      }
    },
    {
      "cell_type": "code",
      "execution_count": null,
      "metadata": {
        "id": "XC9ZCNCaIv5-"
      },
      "outputs": [],
      "source": [
        "%cd course/data2025"
      ]
    },
    {
      "cell_type": "code",
      "source": [
        "! bash getgg.sh"
      ],
      "metadata": {
        "id": "KAyWve04hrt0"
      },
      "execution_count": null,
      "outputs": []
    },
    {
      "cell_type": "markdown",
      "metadata": {
        "id": "NmWoUIIuH0oe"
      },
      "source": [
        "Notice that we used `%` instead of `!` to run out command line function. This makes the path change to our directory permanent. Check the content of the current directory/folder"
      ]
    },
    {
      "cell_type": "code",
      "execution_count": null,
      "metadata": {
        "id": "01O1qXzTIAzK"
      },
      "outputs": [],
      "source": [
        "! ls"
      ]
    },
    {
      "cell_type": "markdown",
      "metadata": {
        "id": "H6V82UcLIbXY"
      },
      "source": [
        "---\n",
        "\n",
        "## 1.2 Background\n",
        "\n",
        "#### _Why do we need to use the command line in Bioinformatics?_\n",
        "\n",
        "- Reproducibility: Command-line tools and programming enable the creation of reproducible workflows. By writing scripts or workflows, researchers can document and automate their analyses, ensuring that others can replicate their results.\n",
        "- Pipelines: programs talking to each other (pipes)\n",
        "- Redirection: programs write and read to files\n",
        "- Text Streams: Allow us to both couple programs together and process data without storing huge amounts of data in our computers’ memory\n",
        "- Modularity\n",
        "  - Modular workflows allow us to experiment with alternate methods and approaches, since independent components can be easily swapped out\n",
        "  - In a modular workflow each component is independent, which makes it easier to inspect intermediate results for inconsistencies and isolate problematic steps\n",
        "  - Modular components allow us to choose tools and languages that are appropriate for specific tasks\n",
        "  - Modular programs are reusable and applicable to many types of data\n",
        "\n",
        "Reference: [Buffalo, V. (2015) _Bioinformatics Data Skills_. O’Reilly Media, Sebastopol CA](https://www.oreilly.com/library/view/bioinformatics-data-skills/9781449367480/)\n",
        "\n",
        "---\n",
        "\n",
        "#### _Reproducibility_\n",
        "\n",
        "- Literate programming: Chunks of programming (analytical code) with human-readable text (comments)\n",
        "- Version control: Tracking changes made to sets of files (of a project), typically program source code, scripts and documentation\n",
        "- Environment control: Versions of all programs (plus libraries, packages, OS) used; archival copies for future reference. Example: sessionInfo()\n",
        "- Persistent data sharing: collaborative, transparent, accessible science\n",
        "- Documentation, e.g. README file\n",
        "- Project (data + code + …) validation\n",
        "- Command-line tools and programming enable the creation of reproducible workflows (aka pipelines). By writing scripts or workflows, researchers can document and automate their analyses, ensuring that others can replicate their results.\n",
        "- Modularity of the command-line: Possibility of running long pipelines of programs, one after another + piping\n",
        "\n",
        "Reference: [Ziemann et al. _Brief Bioinform_. 2023 Sep 22;24(6):bbad375](https://academic.oup.com/bib/article/24/6/bbad375/7326135)\n",
        "\n",
        "---\n",
        "\n",
        "#### _The 16S rRNA gene for community profiling_\n",
        "\n",
        "- Operational concepts of classification: OTUs and ASVs\n",
        "  - Operational taxonomic units (OTU): Consensus sequences from clustering\n",
        "  - Amplicon Sequence Variants (ASV): Exact sequences\n",
        "- Community profiling: Identifying OTUs and/or ASVs in samples\n",
        "- 16S rRNA part of the 30S small subunit (SSU) of the prokaryotic ribosome\n",
        "  - All prokayotes have one (or more) copy of this gene\n",
        "  - NOT true for any protein coding genes\n",
        "- Different parts of the gene exhibit different levels of conservation\n",
        "  - More conserved regions can be used to analyse distantly related species\n",
        "  - More variable regions can be used to analyse more closely related species\n",
        "- Gene ~1540 nt\n",
        "  - Not too short so as to be uninformative; not too long so as to be unmanageable\n",
        "- Most 16S rRNA gene is highly conserved between different species\n",
        "  - Hypervariable regions: Nine much less conserved (V1 – V9)\n",
        "\n",
        "<!--\n",
        "![16SrRNA](https://bioinformatics.ccr.cancer.gov/docs/qiime2/images/16SrRNA.png)\n",
        "-->\n",
        "\n",
        "<img src=\"https://bioinformatics.ccr.cancer.gov/docs/qiime2/images/16SrRNA.png\" alt=\"drawing\" width=\"600\"/>\n",
        "\n",
        "Figure source: Fukuda et al. Molecular Approaches to Studying Microbial Communities: Targeting the 16S Ribosomal RNA Gene. J UOEH. 2016 Sep;38(3):223-32. doi: [10.7888/juoeh.38.223](https://doi.org/10.7888/juoeh.38.223)\n",
        "\n",
        "---\n",
        "\n",
        "#### _rRNA Reference Databases_\n",
        "\n",
        "\n",
        "\n",
        "| Feature | SILVA | Greengenes | Greengenes2 | RDP |\n",
        "|---------|-------|------------|-------------|-----|\n",
        "| **Size** | ~2M sequences | ~1.2M sequences | ~2.1M sequences | ~3M sequences |\n",
        "| **Last Update** | Release 138.1 (2023) | 13_8 (May 2013) | 2022.10 (Oct 2022) | Release 11.5 (2016) |\n",
        "| **Coverage** | Bacteria, archaea, eukaryotes | Bacteria, archaea only | Bacteria, archaea only | Bacteria, archaea |\n",
        "| **rRNA genes** | SSU (Small Subunit rRNA) + LSU (Large Subunit rRNA) | SSU only (16S) | SSU only (16S) | SSU only |\n",
        "| **Taxonomy** | SILVA taxonomy | Greengenes taxonomy | GTDB taxonomy | Bergey's Manual |\n",
        "| **Strength** | Comprehensive, LSU included | Historical compatibility | Modern update of GG, GTDB-based | Quality control, built-in classifier |\n",
        "| **Best For** | General use, eukaryotes | Comparing old studies | General use | Comparing old studies |\n",
        "| **Website** | https://www.arb-silva.de | https://greengenes.secondgenome.com | http://ftp.microbio.me/greengenes_release | https://rdp.cme.msu.edu |\n",
        "| **Reference** | Quast et al. (2013) NAR, doi:10.1093/nar/gks1219 | DeSantis et al. (2006) AEM, doi:10.1128/AEM.03006-05 | McDonald et al. (2023) Nat Biotech, doi:10.1038/s41587-023-01845-1 | Cole et al. (2014) NAR, doi:10.1093/nar/gkt1244 |\n",
        "\n",
        "\n",
        "---\n",
        "\n",
        "#### _A typical microbiome analysis experiment_\n",
        "\n",
        "![](https://github.com/barrantesisrael/mbtmicrobiome2023/blob/main/data2025/Fig1.png?raw=true)\n",
        "\n",
        "\n",
        "---\n",
        "\n",
        "## 1.3 Sequence data formats\n",
        "\n",
        "![](https://github.com/barrantesisrael/mbtmicrobiome2023/blob/main/data2025/Fig2.png?raw=true)\n",
        "\n",
        "\n",
        "---\n",
        "\n",
        "### Hands-on: Working with FASTQ files\n",
        "\n",
        "Replace the name of the FASTQ file with your own identifier, and observe the first ten lines -what do you notice?"
      ]
    },
    {
      "cell_type": "code",
      "execution_count": null,
      "metadata": {
        "id": "15iTtkwhIqXA"
      },
      "outputs": [],
      "source": [
        "! head Platz1_R1.head.fastq"
      ]
    },
    {
      "cell_type": "markdown",
      "metadata": {
        "id": "9xbxww1uI5oq"
      },
      "source": [
        "\n",
        "Count the total number of lines with the command below -how many READS are in this FASTQ? Hint: each read in FASTQ format consists of four lines\n"
      ]
    },
    {
      "cell_type": "code",
      "execution_count": null,
      "metadata": {
        "id": "lDdFR3tcI7wE"
      },
      "outputs": [],
      "source": [
        "! wc -l Platz1_R1.head.fastq"
      ]
    },
    {
      "cell_type": "markdown",
      "metadata": {
        "id": "iZFSR76oI9-R"
      },
      "source": [
        "Find specific nucleotide combinations, e.g \"AATATT\""
      ]
    },
    {
      "cell_type": "code",
      "execution_count": null,
      "metadata": {
        "id": "_aczx-E7J5o4"
      },
      "outputs": [],
      "source": [
        "! grep \"AATATT\" Platz1_R1.head.fastq | head"
      ]
    },
    {
      "cell_type": "markdown",
      "metadata": {
        "id": "uKFg6yTPJ7ov"
      },
      "source": [
        "Count how many times the hexanucleotide \"AATATT\" appears in your Illumina data"
      ]
    },
    {
      "cell_type": "code",
      "execution_count": null,
      "metadata": {
        "id": "2Hw2lyjlKFv4"
      },
      "outputs": [],
      "source": [
        "! grep -c \"AATATT\" Platz1_R1.head.fastq"
      ]
    },
    {
      "cell_type": "markdown",
      "source": [
        "---\n",
        "\n",
        "\n",
        "\n",
        "## 1.4 Quality control\n",
        "\n",
        "#### _FASTQ quality_\n",
        "\n",
        "<!--\n",
        "![](https://github.com/barrantesisrael/mbtmicrobiome2023/blob/main/data2025/Fig3.png?raw=true)\n",
        "-->\n",
        "\n",
        "<img src=\"https://github.com/barrantesisrael/mbtmicrobiome2023/blob/main/data2025/Fig3.png?raw=true\" alt=\"Fig3\" width=\"600\"/>\n",
        "\n",
        "---\n",
        "\n",
        "\n",
        "### Hands-on: Quality control with the [FASTQC](https://www.bioinformatics.babraham.ac.uk/projects/fastqc/) tool\n",
        "\n",
        "Replace the `Platz` number with your own in the following command before running"
      ],
      "metadata": {
        "id": "oQsTp6tbUIHo"
      }
    },
    {
      "cell_type": "code",
      "source": [
        "! fastqc --quiet Platz1_R1.head.fastq"
      ],
      "metadata": {
        "id": "U7dzclbAjD1R"
      },
      "execution_count": null,
      "outputs": []
    },
    {
      "cell_type": "markdown",
      "source": [
        "To display the output, download the HTML output from the `Files` view on the side menu to your local computer (Folder: /course/data2025), and open it in a web browser.\n",
        "\n",
        "---\n",
        "\n",
        "## 1.5 Sequence assembly\n",
        "\n",
        "- Reconstructing a complete DNA sequence by aligning and merging smaller overlapping DNA fragments (reads) obtained from sequencing\n",
        "\n",
        "- NGS produces short fragments of DNA at a time (e.g. 50-300 bp for Illumina)\n",
        "\n",
        "- Assembly uses computational algorithms to find overlaps between these fragments and combine them into longer, contiguous sequences—like solving a jigsaw puzzle with overlapping pieces\n",
        "\n",
        "\n",
        "\n",
        "<!---\n",
        "![](https://github.com/barrantesisrael/mbtmicrobiome2023/blob/main/data2025/Fig4.png?raw=true)\n",
        "--->\n",
        "\n",
        "\n",
        "<img src=\"https://github.com/barrantesisrael/mbtmicrobiome2023/blob/main/data2025/Fig4.png?raw=true\" alt=\"Fig4\" width=\"600\"/>\n",
        "\n",
        "\n",
        "---\n",
        "\n",
        "#### _Using PANDAseq for amplicon assembly_\n",
        "\n",
        "<img src=\"https://media.springernature.com/full/springer-static/image/art%3A10.1186%2F1471-2105-13-31/MediaObjects/12859_2011_Article_5124_Fig1_HTML.jpg\" alt=\"PANDAseq\" width=\"600\"/>\n",
        "\n",
        "- PANDAseq merges forward and reverse reads from Illumina sequencing by finding their **overlapping region**.\n",
        "- When the two reads share identical sequences in the middle, the algorithm aligns them and creates a single, longer consensus sequence.\n",
        "- PANDAseq uses **quality scores** to decide which base to keep when there are mismatches in the overlap.\n",
        "- Reads that don't overlap sufficiently or have too many errors are discarded.\n",
        "\n",
        "This produces high-quality, full-length amplicon sequences ready for downstream analysis.\n",
        "\n",
        "\n",
        "Reference: Masella, A.P., Bartram, A.K., Truszkowski, J.M. et al. PANDAseq: paired-end assembler for illumina sequences. BMC Bioinformatics 13, 31 (2012). https://doi.org/10.1186/1471-2105-13-31\n",
        "\n",
        "---\n",
        "\n",
        "### Hands-on: Amplicon assembly with [PANDAseq](https://github.com/neufeld/pandaseq)\n",
        "\n",
        "\n",
        "Again replace the `Platz` number with your own in the following command before running the following command:"
      ],
      "metadata": {
        "id": "oaC-894Vj42k"
      }
    },
    {
      "cell_type": "code",
      "source": [
        "! pandaseq -f Platz10_R1.head.fastq -r Platz10_R2.head.fastq -w Platz10.fa -g log.txt"
      ],
      "metadata": {
        "id": "Kfy_aE5O1SEt"
      },
      "execution_count": null,
      "outputs": []
    },
    {
      "cell_type": "markdown",
      "source": [
        "Observe the first ten lines of the FASTA output:"
      ],
      "metadata": {
        "id": "cQzFjgiz1S1I"
      }
    },
    {
      "cell_type": "code",
      "source": [
        "! head Platz10.fa"
      ],
      "metadata": {
        "id": "XL0G7EH11fha"
      },
      "execution_count": null,
      "outputs": []
    },
    {
      "cell_type": "markdown",
      "source": [
        "Q: _How many sequences are in this FASTA output?_\n",
        "\n",
        "Hint: count the total number of HEADER line symbols (\">\") with the command:\n"
      ],
      "metadata": {
        "id": "jIWjZ4Wb1jtY"
      }
    },
    {
      "cell_type": "code",
      "source": [
        "! grep -c \">\" Platz10.fa"
      ],
      "metadata": {
        "id": "5bfsgs3_1vzo"
      },
      "execution_count": null,
      "outputs": []
    },
    {
      "cell_type": "markdown",
      "source": [
        "Q: _What is the rate of FASTA sequences vs FASTQ reads? And what does this tell about our sequencing and assembly quality and efficiency?_\n",
        "\n",
        "---\n",
        "\n",
        "## 1.6 Taxonomy assignment\n",
        "\n",
        "- **Community profile**: Represents the taxonomic composition of a microbial community obtained from DNA sequencing data. A typical table contains sample data in the columns, taxa information in the rows, and the amount of amplicons on each cell\n",
        "\n",
        "- **Taxonomy Assignment**: Identifying which organism each DNA sequence belongs to by comparing it against reference databases (SILVA, Greengenes, RDP). The output is a taxonomic classification (e.g., Bacteroidetes phylum, Bacteroides genus).\n",
        "\n",
        "- **OTUs (Operational Taxonomic Units)**: Groups of sequences clustered together based on similarity (typically ≥97% identity), representing taxonomic units approximating species level. OTUs served as the traditional unit for microbial diversity analysis ([Schloss & Handelsman, 2005](https://doi.org/10.1128/AEM.71.12.8228-8235.2005))\n",
        "\n",
        "- **ASVs (Amplicon Sequence Variants)**: Exact unique sequences identified after error correction, providing single-nucleotide resolution without arbitrary clustering. ASVs are now preferred over OTUs for higher precision and reproducibility ([Callahan et al., 2017](https://doi.org/10.1038/ismej.2017.119)).\n",
        "\n",
        "- **OTU/ASV tables**: Matrices where rows represent OTUs/ASVs, columns represent samples, and values show abundance (amplicon counts) of each unit.\n",
        "\n",
        "\n",
        "An example OTU table:\n",
        "\n",
        "![](https://github.com/barrantesisrael/mbtmicrobiome2023/blob/main/data2025/Fig5.png?raw=true)\n",
        "\n",
        "---\n",
        "\n",
        "#### _Taxonomy assignment with Kraken2_\n",
        "\n",
        "Kraken2 uses the k-mer method for taxonomy assignment:\n",
        "\n",
        "- We start with a big reference database that already contains DNA sequences from many known organisms. Each of those known DNA sequences is cut into small fragment, each k letters long (for example, 30 DNA bases), called k-mers.\n",
        "\n",
        "- When we get a new DNA sequence (our target sequence that we want to identify), the program also break it into k-mers.\n",
        "\n",
        "- For each k-mer in the new sequence, the program checks if that k-mer appears in the database and notes which organisms it came from.\n",
        "\n",
        "- If a k-mer is found in several organisms, the program assigns it to the lowest common ancestor (LCA) — meaning the most specific shared branch on the tree of life that includes all those organisms.\n",
        "\n",
        "- Finally, by looking at where most of the k-mers in the new sequence point in the taxonomy tree, Kraken decides which organism (or group) the sequence most likely belongs to\n",
        "\n",
        "\n",
        "![](https://training.galaxyproject.org/training-material/topics/microbiome/faqs/images/kmers-kraken.jpg)\n",
        "\n",
        "\n",
        "Reference: Wood, D. E., and S. L. Salzberg, 2014 Kraken: ultrafast metagenomic sequence classification using exact alignments. _Genome Biol_ 15: R46. [10.1186/gb-2014-15-3-r46](https://doi.org/10.1186/gb-2014-15-3-r46)\n",
        "\n",
        "---\n",
        "\n",
        "### Hands-on: OTU Assignment with [kraken2](https://ccb.jhu.edu/software/kraken2/) against the 16S [Greengenes](https://greengenes.secondgenome.com/) database\n",
        "\n",
        "Run your samples against Greengenes with your own data; the example here is the with the `Platz10` run, so replace the FASTQ filenames with your own FASTQ names as before.\n",
        "\n"
      ],
      "metadata": {
        "id": "fJ-WgFDn2K88"
      }
    },
    {
      "cell_type": "code",
      "source": [
        "! kraken2 --db 16S_Greengenes_k2db --use-names --output output.txt --report report.txt --paired Platz10_R1.head.fastq Platz10_R2.head.fastq"
      ],
      "metadata": {
        "id": "Ab8T-jeR27NC"
      },
      "execution_count": null,
      "outputs": []
    },
    {
      "cell_type": "markdown",
      "source": [
        "Inspect your individual results (file: `report.txt`) with the following command:"
      ],
      "metadata": {
        "id": "jVSwTv0j3Wc1"
      }
    },
    {
      "cell_type": "code",
      "source": [
        "! cat report.txt"
      ],
      "metadata": {
        "id": "bSoy3N7v3W6A"
      },
      "execution_count": null,
      "outputs": []
    },
    {
      "cell_type": "markdown",
      "source": [
        "Question: _What are the most predominant genera in your personal Illumina runs?_\n",
        "\n",
        "The output report from Kraken2 consists of the following fields:\n",
        "\n",
        "- Percentage of fragments covered by the clade rooted at this taxon\n",
        "- Number of fragments covered by the clade rooted at this taxon\n",
        "- Number of fragments assigned directly to this taxon\n",
        "- A rank code, indicating (U)nclassified, (R)oot, (D)omain, (K)ingdom, (P)hylum, (C)lass, (O)rder, (F)amily, (G)enus, or (S)pecies.\n",
        "- NCBI taxonomic ID number\n",
        "- Indented scientific name\n",
        "\n",
        "See the program [documentation](https://github.com/DerrickWood/kraken2/blob/master/docs/MANUAL.markdown#sample-report-output-format) for details.\n"
      ],
      "metadata": {
        "id": "sE5k1aiM3HDH"
      }
    },
    {
      "cell_type": "markdown",
      "source": [
        "Finally, to generate our OTU table, first we need to execute kraken2 with all Illumina sequencing pairs; here is simplified by calling the script `getkrakenreports.sh`:"
      ],
      "metadata": {
        "id": "g7TqJwN4sGRK"
      }
    },
    {
      "cell_type": "code",
      "source": [
        "! bash getkrakenreports.sh"
      ],
      "metadata": {
        "id": "YwRuOewNrfRv"
      },
      "execution_count": null,
      "outputs": []
    },
    {
      "cell_type": "markdown",
      "source": [
        "followed by merging all reports with the [`kraken-biom`](https://github.com/jenniferlu717/KrakenTools) tool:"
      ],
      "metadata": {
        "id": "kP42YATXsb1x"
      }
    },
    {
      "cell_type": "code",
      "source": [
        "! kraken-biom *.report --fmt tsv -o mbtmicrobiome20251022.tsv"
      ],
      "metadata": {
        "id": "zxU6ReFFsmSB"
      },
      "execution_count": null,
      "outputs": []
    },
    {
      "cell_type": "markdown",
      "source": [
        "Now let's take a look at our OTU table:"
      ],
      "metadata": {
        "id": "DwOPAn2suej2"
      }
    },
    {
      "cell_type": "code",
      "source": [
        "! cat mbtmicrobiome20251022.tsv"
      ],
      "metadata": {
        "id": "jLaiwBobujvY"
      },
      "execution_count": null,
      "outputs": []
    },
    {
      "cell_type": "markdown",
      "source": [
        "OTU taxonomic information can be retrieved from the [NCBI Taxonomy](https://www.ncbi.nlm.nih.gov/taxonomy) database, e.g. the id number 527 corresponds to [_Acidiphilium_ sp.](https://www.ncbi.nlm.nih.gov/Taxonomy/Browser/wwwtax.cgi?id=527)\n",
        "\n",
        "The full version of this table (e.g. see [`mbtmicrobiome2024.tsv`](https://github.com/barrantesisrael/mbtmicrobiome2023/blob/main/data2025/mbtmicrobiome2024.tsv)) will be analyzed in the next session, together with the [`metadata`](https://docs.google.com/spreadsheets/d/1cmch5QirBpVdN67B-8XmMPAtNNMhrGgylskox9nsuVw/edit?usp=sharing) file."
      ],
      "metadata": {
        "id": "WDgu_-uvu7ko"
      }
    },
    {
      "cell_type": "markdown",
      "source": [
        "---\n",
        "\n",
        "## Contact\n",
        "\n",
        "Dr. rer. nat. Israel Barrantes <br>\n",
        "Junior Research Group Translational Bioinformatics (head)<br>\n",
        "Institute for Biostatistics and Informatics in Medicine and Ageing Research, Office 3017<br>\n",
        "Rostock University Medical Center<br>\n",
        "Ernst-Heydemann-Str. 8<br>\n",
        "18057 Rostock, Germany<br>\n",
        "\n",
        "Email: israel.barrantes[bei]uni-rostock.de\n",
        "\n",
        "---\n",
        "Last update 2025/10/13"
      ],
      "metadata": {
        "id": "-7t4mL-6rgpl"
      }
    }
  ],
  "metadata": {
    "colab": {
      "provenance": []
    },
    "kernelspec": {
      "display_name": "Python 3",
      "name": "python3"
    },
    "language_info": {
      "name": "python"
    }
  },
  "nbformat": 4,
  "nbformat_minor": 0
}