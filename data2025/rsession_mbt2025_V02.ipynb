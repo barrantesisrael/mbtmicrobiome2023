{
  "nbformat": 4,
  "nbformat_minor": 0,
  "metadata": {
    "colab": {
      "provenance": []
    },
    "kernelspec": {
      "name": "ir",
      "display_name": "R"
    },
    "language_info": {
      "name": "R"
    }
  },
  "cells": [
    {
      "cell_type": "markdown",
      "source": [
        "# UMR MBT Microbiome Praktikum Session 2\n",
        "\n",
        "---\n",
        "\n",
        "## _Aims_\n",
        "\n",
        "- How do the samples group with each other? Principal Components\n",
        "- How much diversity is there in a sample?  Alpha diversity\n",
        "- How does the diversity differ between samples? Beta diversity\n",
        "- What is the taxonomic content of the sample?  With reference only to known taxa; Including unknown taxa\n",
        "- Rarefaction: Adjusting for differences in library sizes across samples to aid comparisons\n",
        "\n",
        "Reference: Willis A. 2019. _Front. Microbiol._ 10: 2407, https://doi.org/10.3389/fmicb.2019.02407\n",
        "\n",
        "---\n",
        "\n",
        "## _Why R for Bioinformatics?_\n",
        "\n",
        "- Freely available\n",
        "- User- friendly resources to learn R\n",
        "- R editors and integrated development environments (IDEs)\n",
        "- Active user community\n",
        "- Large code repositories: CRAN, Bioconductor, github, gitlab...\n",
        "- Ready-made packages and functions for Bioinformatics\n",
        "- Reproducibility: Code, library (versions), Rmarkdown, Jupyter notebooks\n",
        "\n",
        "\n",
        "---\n",
        "\n",
        "## 2.1 Loading libraries and microbiome data #####\n",
        "\n",
        "First, we start our R environment by loading the needed packages. For this, we need to install first Bioconductor and then the [`phyloseq`](http://joey711.github.io/phyloseq/) package (ca. 5-15 minutes)."
      ],
      "metadata": {
        "id": "ubz70rxcKreY"
      }
    },
    {
      "cell_type": "code",
      "source": [
        "install.packages(\"BiocManager\")\n",
        "BiocManager::install(\"phyloseq\")"
      ],
      "metadata": {
        "id": "uyt7YxdXL82z"
      },
      "execution_count": null,
      "outputs": []
    },
    {
      "cell_type": "markdown",
      "source": [
        "Now we load our required libraries:"
      ],
      "metadata": {
        "id": "GS5LpHU7Qs6i"
      }
    },
    {
      "cell_type": "code",
      "source": [
        "# load ggplot2 library (graphics)\n",
        "library(ggplot2)\n",
        "\n",
        "# loading phyloseq library (microbiome analysis)\n",
        "library(phyloseq)"
      ],
      "metadata": {
        "id": "HjPF0W2_KygV"
      },
      "execution_count": null,
      "outputs": []
    },
    {
      "cell_type": "markdown",
      "source": [
        "Then we load the needed input files: the OTU table ([BIOM format](https://biom-format.org/)) and the metadata (tab- separated)"
      ],
      "metadata": {
        "id": "Iw-4c81bK8So"
      }
    },
    {
      "cell_type": "code",
      "source": [
        "# OTU data\n",
        "InputBiomFile <- \"https://raw.githubusercontent.com/barrantesisrael/mbtmicrobiome2023/refs/heads/main/data2025/mbtmicrobiome2024.biom\"\n",
        "\n",
        "# Samples' metadata\n",
        "InputMapFile <- \"https://raw.githubusercontent.com/barrantesisrael/mbtmicrobiome2023/refs/heads/main/data2025/sample-metadata-2024.tsv\"\n",
        "\n",
        "# prepare phyloseq object by loading both files\n",
        "BiomData <- import_biom(InputBiomFile, parseFunction = parse_taxonomy_greengenes)\n",
        "SampleData <- import_qiime_sample_data(InputMapFile)"
      ],
      "metadata": {
        "id": "mUV0jWOvLFBx"
      },
      "execution_count": null,
      "outputs": []
    },
    {
      "cell_type": "markdown",
      "source": [
        "Our metadata contains the categories and groups that distinguish the samples:"
      ],
      "metadata": {
        "id": "nnaoDVqZ3D3S"
      }
    },
    {
      "cell_type": "code",
      "source": [
        "head(SampleData)"
      ],
      "metadata": {
        "id": "IOd0XaeM3EaP"
      },
      "execution_count": null,
      "outputs": []
    },
    {
      "cell_type": "markdown",
      "source": [
        "Now we proceed to build a `phyloseq` object by combining both the OTU table and the metadata:"
      ],
      "metadata": {
        "id": "GxxEaX_YLSzC"
      }
    },
    {
      "cell_type": "code",
      "source": [
        "# create phyloseq object by merging OTU and sample data\n",
        "ExperimentPhyloseqObject <- merge_phyloseq(BiomData, SampleData)"
      ],
      "metadata": {
        "id": "Am7vZF2sLZaw"
      },
      "execution_count": null,
      "outputs": []
    },
    {
      "cell_type": "markdown",
      "source": [
        "We call our object to see its properties:"
      ],
      "metadata": {
        "id": "iZ7i0-J_Ll_c"
      }
    },
    {
      "cell_type": "code",
      "source": [
        "# checking the features of our original microbiome data\n",
        "ExperimentPhyloseqObject"
      ],
      "metadata": {
        "id": "9rRJj_xNLs2y"
      },
      "execution_count": null,
      "outputs": []
    },
    {
      "cell_type": "markdown",
      "source": [
        "Now we create another phyloseq object, that includes only those taxa with more than 100 amplicons in all samples, and with `Gender` in the metadata"
      ],
      "metadata": {
        "id": "gWEDNlM4SE_g"
      }
    },
    {
      "cell_type": "code",
      "source": [
        "# create a temporary phyloseq object for working\n",
        "psTemp <- ExperimentPhyloseqObject\n",
        "\n",
        "# subset samples\n",
        "# Prune OTUs with low abundances from all samples\n",
        "psTemp <- prune_taxa(taxa_sums(psTemp) > 100, psTemp)\n",
        "\n",
        "# Prune samples with no metadata\n",
        "psTemp <-  subset_samples(psTemp, Gender != \"U\")\n",
        "\n",
        "# checking the features of our microbiome data\n",
        "psTemp"
      ],
      "metadata": {
        "id": "A1S08FTDSIye"
      },
      "execution_count": null,
      "outputs": []
    },
    {
      "cell_type": "markdown",
      "source": [
        "_Q: What are the differences between the `ExperimentPhyloseqObject` and `psTemp` objects?_\n",
        "\n",
        "---\n",
        "\n",
        "## 2.2 Sample ordination\n",
        "\n",
        "- Ordination is a visualization technique that places samples in 2D or 3D space based on their microbial community similarity. Samples with similar microbiomes appear close together; different ones are far apart.\n",
        "- Ordination shows quickly if samples cluster by treatment, disease state, or other factors—revealing biological patterns in your data at a glance.\n",
        "- **PCoA (Principal Coordinates Analysis)**: Works with ecological distances like Bray-Curtis dissimilarity, which better captures compositional differences between communities\n",
        "\n",
        "**References:**\n",
        "- Bray & Curtis (1957). An ordination of the upland forest communities. *Ecological Monographs*, doi:10.2307/1942268\n",
        "- Ramette (2007). Multivariate analyses in microbial ecology. *FEMS Microbiology Ecology*, doi:10.1111/j.1574-6941.2007.00375.x\n",
        "\n",
        "---\n",
        "\n",
        "_Hands on_: Using distance methods we will see how similar (or dissimilar) are the samples in the context of their microbiomes. The output generated by `distance()` will be afterwards transformed into a two-dimensional data through the `ordination()`function."
      ],
      "metadata": {
        "id": "r7gUWt21SYcl"
      }
    },
    {
      "cell_type": "code",
      "source": [
        "# Calculate distance and ordination\n",
        "iDist <- distance(psTemp, method=\"bray\")\n",
        "iMDS  <- ordinate(psTemp, distance=iDist)\n",
        "\n",
        "# plot sample ordination, e.g. by Gender\n",
        "plot_ordination(psTemp, iMDS, color=\"Gender\")"
      ],
      "metadata": {
        "id": "Cz1iiWNbS2ZC"
      },
      "execution_count": null,
      "outputs": []
    },
    {
      "cell_type": "markdown",
      "source": [
        "_Q: Are there any clear separations between the gender groups? Why/Why not?_\n",
        "\n",
        "Repeat the ordination using other metadata, e.g. \"Cat\":"
      ],
      "metadata": {
        "id": "iQXBO3YFS5-O"
      }
    },
    {
      "cell_type": "code",
      "source": [
        "plot_ordination(psTemp, iMDS, color=\"Cat\") +\n",
        "  geom_text(aes(label=SampleID), vjust = -1)"
      ],
      "metadata": {
        "id": "LB9m9JP9TIAr"
      },
      "execution_count": null,
      "outputs": []
    },
    {
      "cell_type": "markdown",
      "source": [
        "---\n",
        "\n",
        "## 2.3 Microbial communities\n",
        "\n",
        "### _Phylum and genus barplots_\n",
        "\n",
        "- Microbial communities are usually represented by bar plots showing the relative abundance (percentage) of different bacterial groups (phyla or genera) in each sample. Each color represents a different taxon, and bar height shows how much of the community it comprises.\n",
        "- After taxonomy assignment, sequences are grouped by taxonomic level (phylum, genus, etc.) and counted. The counts are converted to percentages so all bars add up to 100%, allowing direct comparison between samples regardless of sequencing depth.\n",
        "- Provides an intuitive visual summary of community composition—you can immediately see which bacteria dominate each sample and how communities differ. For example, a healthy gut might show high *Bacteroidetes*, while a diseased one shows more *Proteobacteria*.\n",
        "- Typically only the top 10-20 most abundant taxa are shown individually; rare taxa are grouped as \"Other\" to avoid cluttered plots.\n",
        "\n",
        "**References:**\n",
        "- Caporaso et al. (2010). QIIME allows analysis of high-throughput community sequencing data. *Nature Methods*, doi:10.1038/nmeth.f.303\n",
        "- McMurdie & Holmes (2013). phyloseq: An R package for reproducible interactive analysis. *PLOS ONE*, doi:10.1371/journal.pone.0061217\n",
        "\n",
        "---\n",
        "\n",
        "### _Rarefaction_\n",
        "\n",
        "- Normalization technique that randomly subsamples all samples to the same sequencing depth (number of reads) to enable fair comparison. Without this, samples with more reads appear artificially more diverse.\n",
        "- Different samples often have different total read counts due to technical variation in sequencing. A sample with 50,000 reads will naturally detect more species than one with 10,000 reads—even if they're biologically identical.\n",
        "- All samples are randomly downsampled to match the sample with the fewest reads. If your smallest sample has 10,000 reads, all other samples are rarefied to exactly 10,000 reads by random selection without replacement.\n",
        "- **However:** Some argue rarefaction discards valuable data and recommend alternative normalization methods (e.g., CSS, DESeq2), particularly for differential abundance testing (McMurdie & Holmes, 2014, doi:10.1371/journal.pcbi.1003531)\n",
        "\n",
        "**References:**\n",
        "- Hughes et al. (2001). Counting the uncountable. *Applied and Environmental Microbiology*, doi:10.1128/AEM.67.10.4399-4406.2001\n",
        "- McMurdie & Holmes (2014). Waste not, want not. *PLOS Computational Biology*, doi:10.1371/journal.pcbi.1003531\n",
        "\n",
        "---\n",
        "\n",
        "_Hands on_: Now first let's observe the absolute abundance on each sample at the Phylum level."
      ],
      "metadata": {
        "id": "wAsNM8PZThs_"
      }
    },
    {
      "cell_type": "code",
      "source": [
        "### Abundances per sample\n",
        "plot_bar(psTemp, \"SampleID\", fill=\"Phylum\")"
      ],
      "metadata": {
        "id": "vd_oGes8ToXk"
      },
      "execution_count": null,
      "outputs": []
    },
    {
      "cell_type": "markdown",
      "source": [
        "This plot above shows that the samples are not directly comparable. Hence we will perform a [rarefaction](https://www.frontiersin.org/journals/microbiology/articles/10.3389/fmicb.2019.02407/full), a method used to adjust the differences in library sizes, and then plot again:"
      ],
      "metadata": {
        "id": "cTAS7aqKUCSd"
      }
    },
    {
      "cell_type": "code",
      "source": [
        "# initializes the random number generator to a specific starting point to ensure reproducibility\n",
        "set.seed(1212)\n",
        "\n",
        "# Rarefaction to an even depth\n",
        "ps.rarefied <- rarefy_even_depth(psTemp)\n",
        "\n",
        "# Agglomerate the data to a single taxonomic level, e.g. Phylum level\n",
        "ps.rarefied.glom <- tax_glom(ps.rarefied, \"Phylum\")\n",
        "\n",
        "# Plot abundances\n",
        "plot_bar(ps.rarefied.glom, \"SampleID\", fill=\"Phylum\")"
      ],
      "metadata": {
        "id": "RA9ZP5VpUL4y"
      },
      "execution_count": null,
      "outputs": []
    },
    {
      "cell_type": "markdown",
      "source": [
        "Q: _What are the differences between the abundance plots before and after rarefaction?_\n",
        "\n",
        "We can also plot the relative abundances according to any of the metadata categories, e.g. by `Gender`:"
      ],
      "metadata": {
        "id": "f2z12499UTWX"
      }
    },
    {
      "cell_type": "code",
      "source": [
        "### Abundances per category, e.g. \"Gender\"\n",
        "# Merge samples by the selected category\n",
        "mergedGP <- merge_samples(psTemp, \"Gender\")\n",
        "\n",
        "# Rarefaction to an even depth\n",
        "ps.rarefied <- rarefy_even_depth(mergedGP)\n",
        "\n",
        "# Remove lines\n",
        "ps.rarefied.glom <- tax_glom(ps.rarefied, \"Phylum\")\n",
        "\n",
        "# Plot abundances for the example category \"Gender\"\n",
        "plot_bar(ps.rarefied.glom, fill=\"Phylum\")"
      ],
      "metadata": {
        "id": "r8GIdGZTUt7-"
      },
      "execution_count": null,
      "outputs": []
    },
    {
      "cell_type": "markdown",
      "source": [
        "---\n",
        "\n",
        "## 2.4 Diversity\n",
        "\n",
        "- **Diversity**: How many different species are present and how evenly distributed they are in microbial communities.\n",
        "- **Alpha diversity**: Diversity **within** a single sample, e.g. \"How diverse is this one community?\"\n",
        "  - Common metrics include species richness (total number of species), Shannon index (accounts for evenness), and observed ASVs/OTUs (Magurran, 2004, doi:10.1002/9780470999738).\n",
        "  - The Shannon index combines richness and evenness: communities where all species have similar abundances score higher than those dominated by just a few species. Higher values = more diverse communities.\n",
        "\n",
        "- **Beta diversity**: Diversity **between** samples, e.g. \"How different are these communities from each other?\"\n",
        "  - Measured using distance metrics like Bray-Curtis dissimilarity or UniFrac distances (Lozupone & Knight, 2005, doi:10.1128/AEM.71.12.8228-8235.2005). Used to create ordination plots (PCoA, PCA).\n",
        "  - Alpha = diversity within one sample (a single number per sample). Beta = compositional dissimilarity between pairs of samples (visualized as distance matrices or ordination plots).\n",
        "  - Low alpha diversity may indicate dysbiosis; high beta diversity between groups suggests different environmental conditions or disease states are shaping distinct communities.\n",
        "\n",
        "**References:**\n",
        "\n",
        "- Magurran (2004). *Measuring Biological Diversity*. Blackwell Publishing, doi:10.1002/9780470999738\n",
        "- Lozupone & Knight (2005). UniFrac: a new phylogenetic method. *Applied and Environmental Microbiology*, doi:10.1128/AEM.71.12.8228-8235.2005\n",
        "\n",
        "---\n",
        "\n",
        "_Hands on_: First let's observe the Shannon diversity on the individual samples:"
      ],
      "metadata": {
        "id": "VwD_gB65U2a9"
      }
    },
    {
      "cell_type": "code",
      "source": [
        "plot_richness(psTemp, x = \"SampleID\", measures = c(\"Shannon\"))"
      ],
      "metadata": {
        "id": "PCSwduUwU90Z"
      },
      "execution_count": null,
      "outputs": []
    },
    {
      "cell_type": "markdown",
      "source": [
        " Repeat the same analyses at the Gender level:"
      ],
      "metadata": {
        "id": "ilJAKBJ0U-mZ"
      }
    },
    {
      "cell_type": "code",
      "source": [
        "plot_richness(psTemp, x = \"Gender\", color = \"Gender\", measures = c(\"Shannon\"))"
      ],
      "metadata": {
        "id": "63xsdhy5VEc6"
      },
      "execution_count": null,
      "outputs": []
    },
    {
      "cell_type": "markdown",
      "source": [
        "A more appropriate view of our plot can be achieved by adding more features, e.g.:"
      ],
      "metadata": {
        "id": "YH3qiP7uVHXn"
      }
    },
    {
      "cell_type": "code",
      "source": [
        "# Assign our plot to a variable\n",
        "Our_Richness_plot <- plot_richness(psTemp, x = \"Gender\", color = \"Gender\", measures = c(\"Shannon\"))\n",
        "\n",
        "# Improving our plot e.g. by adding proper labels\n",
        "Our_Richness_plot + geom_boxplot(data = Our_Richness_plot$data, aes(x = Gender, y = value, color = Gender), alpha = 0.1) + # boxplot\n",
        "  labs(title = \"Richness of the gut microbiome (Shannon alpha diversity)\", subtitle = \"MBT Class 2024\") + # title and subtitle\n",
        "  theme(axis.text.x = element_text(angle = 0, hjust = 0.5)) # x-axis labels: 0 degree rotation, 0.5 horizontal position"
      ],
      "metadata": {
        "id": "HjjTaZ8mVW3T"
      },
      "execution_count": null,
      "outputs": []
    },
    {
      "cell_type": "markdown",
      "source": [
        "---\n",
        "\n",
        "## Contact\n",
        "\n",
        "Dr. rer. nat. Israel Barrantes <br>\n",
        "Research Group Translational Bioinformatics (head)<br>\n",
        "Institute for Biostatistics and Informatics in Medicine and Ageing Research, Office 3017<br>\n",
        "Rostock University Medical Center<br>\n",
        "Ernst-Heydemann-Str. 8<br>\n",
        "18057 Rostock, Germany<br>\n",
        "\n",
        "Email: israel.barrantes[bei]uni-rostock.de\n",
        "\n",
        "---\n",
        "Last update 2025/10/13"
      ],
      "metadata": {
        "id": "AToQLIm9RWit"
      }
    }
  ]
}