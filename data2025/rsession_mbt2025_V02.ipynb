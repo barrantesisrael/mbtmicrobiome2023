{
  "nbformat": 4,
  "nbformat_minor": 0,
  "metadata": {
    "colab": {
      "provenance": []
    },
    "kernelspec": {
      "name": "ir",
      "display_name": "R"
    },
    "language_info": {
      "name": "R"
    }
  },
  "cells": [
    {
      "cell_type": "markdown",
      "source": [
        "# UMR MBT Microbiome Praktikum\n",
        "\n",
        "---\n",
        "\n",
        "## Session 2\n",
        "\n",
        "##### 2.1 Loading libraries and microbiome data #####\n",
        "\n",
        "First, we start our R environment by loading the needed packages. For this, we need to install first Bioconductor and then the [`phyloseq`](http://joey711.github.io/phyloseq/) package (ca. 5-15 minutes)."
      ],
      "metadata": {
        "id": "ubz70rxcKreY"
      }
    },
    {
      "cell_type": "code",
      "source": [
        "install.packages(\"BiocManager\")\n",
        "BiocManager::install(\"phyloseq\")"
      ],
      "metadata": {
        "id": "uyt7YxdXL82z"
      },
      "execution_count": null,
      "outputs": []
    },
    {
      "cell_type": "markdown",
      "source": [
        "Now we load our required libraries:"
      ],
      "metadata": {
        "id": "GS5LpHU7Qs6i"
      }
    },
    {
      "cell_type": "code",
      "source": [
        "# load ggplot2 library (graphics)\n",
        "library(ggplot2)\n",
        "\n",
        "# loading phyloseq library (microbiome analysis)\n",
        "library(phyloseq)"
      ],
      "metadata": {
        "id": "HjPF0W2_KygV"
      },
      "execution_count": null,
      "outputs": []
    },
    {
      "cell_type": "markdown",
      "source": [
        "Then we load the needed input files: the OTU table ([BIOM format](https://biom-format.org/)) and the metadata (tab- separated)"
      ],
      "metadata": {
        "id": "Iw-4c81bK8So"
      }
    },
    {
      "cell_type": "code",
      "source": [
        "# OTU data\n",
        "InputBiomFile <- \"https://raw.githubusercontent.com/barrantesisrael/mbtmicrobiome2023/refs/heads/main/data2025/mbtmicrobiome2025.biom\"\n",
        "\n",
        "# Samples' metadata\n",
        "InputMapFile <- \"https://raw.githubusercontent.com/barrantesisrael/mbtmicrobiome2023/refs/heads/main/data2025/metadata2025.tsv\"\n",
        "\n",
        "# prepare phyloseq object by loading both files\n",
        "BiomData <- import_biom(InputBiomFile, parseFunction = parse_taxonomy_greengenes)\n",
        "SampleData <- import_qiime_sample_data(InputMapFile)"
      ],
      "metadata": {
        "id": "mUV0jWOvLFBx"
      },
      "execution_count": null,
      "outputs": []
    },
    {
      "cell_type": "markdown",
      "source": [
        "Our metadata contains the categories and groups that distinguish the samples:"
      ],
      "metadata": {
        "id": "nnaoDVqZ3D3S"
      }
    },
    {
      "cell_type": "code",
      "source": [
        "head(SampleData)"
      ],
      "metadata": {
        "id": "IOd0XaeM3EaP"
      },
      "execution_count": null,
      "outputs": []
    },
    {
      "cell_type": "markdown",
      "source": [
        "Now we proceed to build a `phyloseq` object by combining both the OTU table and the metadata:"
      ],
      "metadata": {
        "id": "GxxEaX_YLSzC"
      }
    },
    {
      "cell_type": "code",
      "source": [
        "# create phyloseq object by merging OTU and sample data\n",
        "ExperimentPhyloseqObject <- merge_phyloseq(BiomData, SampleData)"
      ],
      "metadata": {
        "id": "Am7vZF2sLZaw"
      },
      "execution_count": null,
      "outputs": []
    },
    {
      "cell_type": "markdown",
      "source": [
        "We call our object to see its properties:"
      ],
      "metadata": {
        "id": "iZ7i0-J_Ll_c"
      }
    },
    {
      "cell_type": "code",
      "source": [
        "# checking the features of our original microbiome data\n",
        "ExperimentPhyloseqObject"
      ],
      "metadata": {
        "id": "9rRJj_xNLs2y"
      },
      "execution_count": null,
      "outputs": []
    },
    {
      "cell_type": "markdown",
      "source": [
        "Now we create another phyloseq object, that includes only those taxa with more than 100 amplicons in all samples, and with `Gender` in the metadata"
      ],
      "metadata": {
        "id": "gWEDNlM4SE_g"
      }
    },
    {
      "cell_type": "code",
      "source": [
        "# create a temporary phyloseq object for working\n",
        "psTemp <- ExperimentPhyloseqObject\n",
        "\n",
        "# subset samples\n",
        "# Prune OTUs with low abundances from all samples\n",
        "psTemp <- prune_taxa(taxa_sums(psTemp) > 100, psTemp)\n",
        "\n",
        "# Prune samples with no metadata\n",
        "psTemp <-  subset_samples(psTemp, Gender != \"U\")\n",
        "\n",
        "# checking the features of our microbiome data\n",
        "psTemp"
      ],
      "metadata": {
        "id": "A1S08FTDSIye"
      },
      "execution_count": null,
      "outputs": []
    },
    {
      "cell_type": "markdown",
      "source": [
        "_Q: What are the differences between the `ExperimentPhyloseqObject` and `psTemp` objects?_\n",
        "\n",
        "##### 2.2 Sample ordination #####\n",
        "\n",
        "Using distance methods, we will see how similar (or dissimilar) are the samples in the context of their microbiomes. The output generated by `distance()` will be afterwards transformed into a two-dimensional data through the `ordination()`function."
      ],
      "metadata": {
        "id": "r7gUWt21SYcl"
      }
    },
    {
      "cell_type": "code",
      "source": [
        "# Calculate distance and ordination\n",
        "iDist <- distance(psTemp, method=\"bray\")\n",
        "iMDS  <- ordinate(psTemp, distance=iDist)\n",
        "\n",
        "# plot sample ordination, e.g. by Gender\n",
        "plot_ordination(psTemp, iMDS, color=\"Gender\")"
      ],
      "metadata": {
        "id": "Cz1iiWNbS2ZC"
      },
      "execution_count": null,
      "outputs": []
    },
    {
      "cell_type": "markdown",
      "source": [
        "_Q: Are there any clear separations between the gender groups? Why/Why not?_\n",
        "\n",
        "Repeat the ordination using other metadata, e.g. \"Cat\":"
      ],
      "metadata": {
        "id": "iQXBO3YFS5-O"
      }
    },
    {
      "cell_type": "code",
      "source": [
        "plot_ordination(psTemp, iMDS, color=\"Pet\") +\n",
        "  geom_text(aes(label=SampleID), vjust = -1)"
      ],
      "metadata": {
        "id": "LB9m9JP9TIAr"
      },
      "execution_count": null,
      "outputs": []
    },
    {
      "cell_type": "markdown",
      "source": [
        "##### 2.3 Microbial communities #####\n",
        "\n",
        "First let's observe the absolute abundance on each sample at the Phylum level."
      ],
      "metadata": {
        "id": "wAsNM8PZThs_"
      }
    },
    {
      "cell_type": "code",
      "source": [
        "### Abundances per sample\n",
        "plot_bar(psTemp, \"SampleID\", fill=\"Phylum\")"
      ],
      "metadata": {
        "id": "vd_oGes8ToXk"
      },
      "execution_count": null,
      "outputs": []
    },
    {
      "cell_type": "markdown",
      "source": [
        "This plot above shows that the samples are not directly comparable. Hence we will perform a [rarefaction](https://www.frontiersin.org/journals/microbiology/articles/10.3389/fmicb.2019.02407/full), a method used to adjust the differences in library sizes, and then plot again:"
      ],
      "metadata": {
        "id": "cTAS7aqKUCSd"
      }
    },
    {
      "cell_type": "code",
      "source": [
        "# Rarefaction to an even depth\n",
        "ps.rarefied <- rarefy_even_depth(psTemp)\n",
        "\n",
        "# Agglomerate the data to a single taxonomic level, e.g. Phylum level\n",
        "ps.rarefied.glom <- tax_glom(ps.rarefied, \"Phylum\")\n",
        "\n",
        "# Plot abundances\n",
        "plot_bar(ps.rarefied.glom, \"SampleID\", fill=\"Phylum\")"
      ],
      "metadata": {
        "id": "RA9ZP5VpUL4y"
      },
      "execution_count": null,
      "outputs": []
    },
    {
      "cell_type": "markdown",
      "source": [
        "Q: _What are the differences between the abundance plots before and after rarefaction?_\n",
        "\n",
        "We can also plot the relative abundances according to any of the metadata categories, e.g. by `Gender`:"
      ],
      "metadata": {
        "id": "f2z12499UTWX"
      }
    },
    {
      "cell_type": "code",
      "source": [
        "### Abundances per category, e.g. \"Gender\"\n",
        "# Merge samples by the selected category\n",
        "mergedGP <- merge_samples(psTemp, \"Gender\")\n",
        "\n",
        "# Rarefaction to an even depth\n",
        "ps.rarefied <- rarefy_even_depth(mergedGP)\n",
        "\n",
        "# Remove lines\n",
        "ps.rarefied.glom <- tax_glom(ps.rarefied, \"Phylum\")\n",
        "\n",
        "# Plot abundances for the example category \"Gender\"\n",
        "plot_bar(ps.rarefied.glom, fill=\"Phylum\")"
      ],
      "metadata": {
        "id": "r8GIdGZTUt7-"
      },
      "execution_count": null,
      "outputs": []
    },
    {
      "cell_type": "markdown",
      "source": [
        "##### 2.4 Diversity #####\n",
        "\n",
        "First let's observe the Shannon diversity on the individual samples:"
      ],
      "metadata": {
        "id": "VwD_gB65U2a9"
      }
    },
    {
      "cell_type": "code",
      "source": [
        "plot_richness(psTemp, x = \"SampleID\", measures = c(\"Shannon\"))"
      ],
      "metadata": {
        "id": "PCSwduUwU90Z"
      },
      "execution_count": null,
      "outputs": []
    },
    {
      "cell_type": "markdown",
      "source": [
        " Repeat the same analyses at the Gender level:"
      ],
      "metadata": {
        "id": "ilJAKBJ0U-mZ"
      }
    },
    {
      "cell_type": "code",
      "source": [
        "plot_richness(psTemp, x = \"Gender\", color = \"Gender\", measures = c(\"Shannon\"))"
      ],
      "metadata": {
        "id": "63xsdhy5VEc6"
      },
      "execution_count": null,
      "outputs": []
    },
    {
      "cell_type": "markdown",
      "source": [
        "A more appropriate view of our plot can be achieved by adding more features, e.g.:"
      ],
      "metadata": {
        "id": "YH3qiP7uVHXn"
      }
    },
    {
      "cell_type": "code",
      "source": [
        "# Assign our plot to a variable\n",
        "Our_Richness_plot <- plot_richness(psTemp, x = \"Gender\", color = \"Gender\", measures = c(\"Shannon\"))\n",
        "\n",
        "# Improving our plot e.g. by adding proper labels\n",
        "Our_Richness_plot + geom_boxplot(data = Our_Richness_plot$data, aes(x = Gender, y = value, color = Gender), alpha = 0.1) + # boxplot\n",
        "  labs(title = \"Richness of the gut microbiome (Shannon alpha diversity)\", subtitle = \"MBT Class 2025\") + # title and subtitle\n",
        "  theme(axis.text.x = element_text(angle = 0, hjust = 0.5)) # x-axis labels: 0 degree rotation, 0.5 horizontal position"
      ],
      "metadata": {
        "id": "HjjTaZ8mVW3T"
      },
      "execution_count": null,
      "outputs": []
    },
    {
      "cell_type": "markdown",
      "source": [
        "---\n",
        "\n",
        "## Contact\n",
        "\n",
        "Dr. rer. nat. Israel Barrantes <br>\n",
        "Junior Research Group Translational Bioinformatics (head)<br>\n",
        "Institute for Biostatistics and Informatics in Medicine and Ageing Research, Office 3017<br>\n",
        "Rostock University Medical Center<br>\n",
        "Ernst-Heydemann-Str. 8<br>\n",
        "18057 Rostock, Germany<br>\n",
        "\n",
        "Email: israel.barrantes[bei]uni-rostock.de\n",
        "\n",
        "---\n",
        "Last update 2025/10/13"
      ],
      "metadata": {
        "id": "AToQLIm9RWit"
      }
    }
  ]
}